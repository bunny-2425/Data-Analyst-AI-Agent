{
 "cells": [
  {
   "cell_type": "code",
   "execution_count": 7,
   "id": "72eb68e9",
   "metadata": {},
   "outputs": [
    {
     "name": "stdout",
     "output_type": "stream",
     "text": [
      "Text content:\n",
      "This is a test text file for the data analyst agent.\n",
      "It contains unstructured information about a project.\n"
     ]
    },
    {
     "name": "stderr",
     "output_type": "stream",
     "text": [
      "<>:4: SyntaxWarning: invalid escape sequence '\\d'\n",
      "<>:4: SyntaxWarning: invalid escape sequence '\\d'\n",
      "C:\\Users\\OM\\AppData\\Local\\Temp\\ipykernel_10424\\2287328755.py:4: SyntaxWarning: invalid escape sequence '\\d'\n",
      "  file_path = \"E:\\data-analyst-agent\\sample.txt\"\n"
     ]
    }
   ],
   "source": [
    "from file_handler import read_file\n",
    "import pandas as pd\n",
    "\n",
    "file_path = \"E:\\data-analyst-agent\\sample.txt\"\n",
    "data = read_file(file_path)\n",
    "\n",
    "if isinstance(data, pd.DataFrame):\n",
    "    print(\"Structured data:\")\n",
    "    print(data.head())\n",
    "else:\n",
    "    print(\"Text content:\")\n",
    "    print(data[:500])"
   ]
  },
  {
   "cell_type": "code",
   "execution_count": 9,
   "id": "db44fa69",
   "metadata": {},
   "outputs": [
    {
     "name": "stdout",
     "output_type": "stream",
     "text": [
      "Text content:\n",
      "This is a test text file for the data analyst agent.\n",
      "It contains unstructured information about a project.\n"
     ]
    }
   ],
   "source": [
    "from file_handler import read_file\n",
    "import pandas as pd\n",
    "\n",
    "file_path = \"E:/data-analyst-agent/sample.txt\"\n",
    "data = read_file(file_path)\n",
    "\n",
    "if isinstance(data, pd.DataFrame):\n",
    "    print(\"Structured data:\")\n",
    "    print(data.head())\n",
    "else:\n",
    "    print(\"Text content:\")\n",
    "    print(data[:500])"
   ]
  },
  {
   "cell_type": "code",
   "execution_count": null,
   "id": "fa06f8a7",
   "metadata": {},
   "outputs": [],
   "source": []
  }
 ],
 "metadata": {
  "kernelspec": {
   "display_name": "venv",
   "language": "python",
   "name": "python3"
  },
  "language_info": {
   "codemirror_mode": {
    "name": "ipython",
    "version": 3
   },
   "file_extension": ".py",
   "mimetype": "text/x-python",
   "name": "python",
   "nbconvert_exporter": "python",
   "pygments_lexer": "ipython3",
   "version": "3.12.4"
  }
 },
 "nbformat": 4,
 "nbformat_minor": 5
}
