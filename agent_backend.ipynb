{
 "cells": [
  {
   "cell_type": "code",
   "execution_count": 2,
   "id": "d0396131",
   "metadata": {},
   "outputs": [
    {
     "name": "stdout",
     "output_type": "stream",
     "text": [
      "The city that never sleeps! New York is a vibrant and diverse city that offers something for everyone. Here are some fun things to do in New York:\n",
      "\n",
      "**Iconic Landmarks:**\n",
      "\n",
      "1. **Statue of Liberty and Ellis Island**: Take a ferry to Liberty Island to see the iconic statue up close and visit the Ellis Island Immigration Museum.\n",
      "2. **Central Park**: A tranquil oasis in the middle of Manhattan, perfect for a stroll, picnic, or people-watching.\n",
      "3. **Times Square**: The heart of New York's entertainment district, known for its bright lights, giant billboards, and lively street performers.\n",
      "\n",
      "**Museums and Galleries:**\n",
      "\n",
      "1. **The Metropolitan Museum of Art**: One of the world's largest and most famous museums, with a vast collection of art and artifacts from around the world.\n",
      "2. **American Museum of Natural History**: Explore the natural world, from dinosaurs to space, at this iconic museum.\n",
      "3. **Guggenheim Museum**: Designed by Frank Lloyd Wright, this museum features an impressive collection of modern and contemporary art.\n",
      "\n",
      "**Broadway and Performance:**\n",
      "\n",
      "1. **Catch a Broadway Show**: New York is the hub of American theater, with world-class productions on Broadway and off-Broadway.\n",
      "2. **Carnegie Hall**: Attend a concert or performance at this legendary music venue.\n",
      "3. **Comedy Clubs**: Laugh out loud at one of the many comedy clubs, such as Carolines on Broadway or the Comedy Cellar.\n",
      "\n",
      "**Food and Drink:**\n",
      "\n",
      "1. **Try a Classic New York Slice**: Sample the city's famous pizza at one of the many iconic pizzerias.\n",
      "2. **Visit a Food Market**: Explore the flavors of the city at markets like Smorgasburg or Chelsea Market.\n",
      "3. **Take a Brewery or Distillery Tour**: Discover the city's craft beer and spirits scene with a guided tour.\n",
      "\n",
      "**Outdoor Activities:**\n",
      "\n",
      "1. **Walk across the Brooklyn Bridge**: Take in the stunning views of the Manhattan skyline and the East River.\n",
      "2. **Visit the High Line**: Elevated park built on an old rail line, with great views of the Hudson River.\n",
      "3. **Kayak on the Hudson River**: Rent a kayak and paddle along the river for a unique perspective on the city.\n",
      "\n",
      "**Shopping:**\n",
      "\n",
      "1. **Fifth Avenue**: Luxury shopping at its finest, with flagship stores like Saks Fifth Avenue and Tiffany & Co.\n",
      "2. **Brooklyn Flea**: Outdoor market with a mix of vintage, artisanal, and street food vendors.\n",
      "3. **SoHo**: Explore the trendy boutiques and art galleries in this fashionable neighborhood.\n",
      "\n",
      "**Other Ideas:**\n",
      "\n",
      "1. **Take a TV Show Taping**: Attend a live taping of a TV show, such as The Tonight Show or Saturday Night Live.\n",
      "2. **Visit a Rooftop Bar**: Enjoy a drink with a view at one of the many rooftop bars, like 230 Fifth or the Top of the Strand.\n",
      "3. **Explore a Neighborhood**: Wander through neighborhoods like Greenwich Village, Chinatown, or Williamsburg to discover their unique character and charm.\n",
      "\n",
      "These are just a few of the many fun things to do in New York. Whether you're interested in history, culture, food, or entertainment, there's something for everyone in the city that never sleeps!\n"
     ]
    }
   ],
   "source": [
    "from together import Together\n",
    "\n",
    "client = Together() # auth defaults to os.environ.get(\"TOGETHER_API_KEY\")\n",
    "\n",
    "response = client.chat.completions.create(\n",
    "    model=\"meta-llama/Llama-4-Maverick-17B-128E-Instruct-FP8\",\n",
    "    messages=[\n",
    "      {\n",
    "        \"role\": \"user\",\n",
    "        \"content\": \"What are some fun things to do in New York?\"\n",
    "      }\n",
    "    ]\n",
    ")\n",
    "print(response.choices[0].message.content)"
   ]
  },
  {
   "cell_type": "code",
   "execution_count": 8,
   "id": "d4a13059",
   "metadata": {},
   "outputs": [
    {
     "name": "stderr",
     "output_type": "stream",
     "text": [
      "<>:6: SyntaxWarning: invalid escape sequence '\\c'\n",
      "<>:6: SyntaxWarning: invalid escape sequence '\\c'\n",
      "C:\\Users\\OM\\AppData\\Local\\Temp\\ipykernel_12760\\826411219.py:6: SyntaxWarning: invalid escape sequence '\\c'\n",
      "  file_path = 'uploaded_files\\customers-100.csv'  # or .txt, .pdf etc.\n"
     ]
    },
    {
     "name": "stdout",
     "output_type": "stream",
     "text": [
      "Agent's Response: To find the number of customers from Sri Lanka, we need to count the number of rows where the 'Country' column is 'Sri Lanka'.\n",
      "\n",
      "Upon reviewing the data, we can see that there are two customers with 'Sri Lanka' as their country: \n",
      "\n",
      "1. Index: 14, Customer Id: A08A8aF8BE9FaD4, Name: Kristine Cox\n",
      "2. Index: 97, Customer Id: CeD220bdAaCfaDf, Name: Lynn Atkinson\n",
      "\n",
      "Therefore, there are 2 customers from Sri Lanka.\n"
     ]
    }
   ],
   "source": [
    "from agent_core import ask_agent\n",
    "from file_handler import read_file\n",
    "import pandas as pd\n",
    "\n",
    "# Path to test file\n",
    "file_path = 'uploaded_files\\customers-100.csv'  # or .txt, .pdf etc.\n",
    "\n",
    "# Step 1: Load file content\n",
    "file_data = read_file(file_path)\n",
    "\n",
    "# Step 2: Convert dataframe to readable format if structured\n",
    "if isinstance(file_data, pd.DataFrame):\n",
    "    context = file_data.to_csv(index=False)\n",
    "else:\n",
    "    context = file_data\n",
    "\n",
    "# Step 3: Ask a question\n",
    "question = \"How many customers are from Sri Lanka?\"\n",
    "\n",
    "# Step 4: Get agent's answer\n",
    "response = ask_agent(context, question)\n",
    "print(\"Agent's Response:\", response)\n"
   ]
  },
  {
   "cell_type": "code",
   "execution_count": null,
   "id": "49331d38",
   "metadata": {},
   "outputs": [
    {
     "name": "stderr",
     "output_type": "stream",
     "text": [
      "<>:5: SyntaxWarning: invalid escape sequence '\\c'\n",
      "<>:5: SyntaxWarning: invalid escape sequence '\\c'\n",
      "C:\\Users\\OM\\AppData\\Local\\Temp\\ipykernel_12760\\3723718090.py:5: SyntaxWarning: invalid escape sequence '\\c'\n",
      "  file_path = \"uploaded_files\\customers-100.csv\"\n"
     ]
    },
    {
     "name": "stdout",
     "output_type": "stream",
     "text": [
      "Plot saved at: chart_output.png\n"
     ]
    }
   ],
   "source": [
    "from file_handler import read_file\n",
    "from visualizer import generate_plot\n",
    "\n",
    "# Read your test file\n",
    "file_path = \"uploaded_files\\customers-100.csv\"\n",
    "df = read_file(file_path)\n",
    "\n",
    "# Generate a Pie chart \n",
    "plot_path = generate_plot(df, chart_type=\"pie\", x_col=\"Country\", y_col='None')\n",
    "print(f\"Plot saved at: {plot_path}\")\n"
   ]
  },
  {
   "cell_type": "code",
   "execution_count": null,
   "id": "fdd15116",
   "metadata": {},
   "outputs": [],
   "source": []
  }
 ],
 "metadata": {
  "kernelspec": {
   "display_name": "venv",
   "language": "python",
   "name": "python3"
  },
  "language_info": {
   "codemirror_mode": {
    "name": "ipython",
    "version": 3
   },
   "file_extension": ".py",
   "mimetype": "text/x-python",
   "name": "python",
   "nbconvert_exporter": "python",
   "pygments_lexer": "ipython3",
   "version": "3.12.4"
  }
 },
 "nbformat": 4,
 "nbformat_minor": 5
}
